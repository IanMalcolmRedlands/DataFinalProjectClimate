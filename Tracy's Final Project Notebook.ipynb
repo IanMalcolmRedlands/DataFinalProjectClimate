{
 "cells": [
  {
   "cell_type": "code",
   "execution_count": null,
   "id": "7f0beaf3-f4ff-4113-b624-2e1e585cff69",
   "metadata": {},
   "outputs": [],
   "source": [
    " "
   ]
  }
 ],
 "metadata": {
  "kernelspec": {
   "display_name": "",
   "name": ""
  },
  "language_info": {
   "name": ""
  }
 },
 "nbformat": 4,
 "nbformat_minor": 5
}
