{
 "cells": [
  {
   "cell_type": "markdown",
   "id": "d15f770f-47af-4655-9f0f-b6cd5281a754",
   "metadata": {},
   "source": [
    "#### Tracy's Final Project Notebook"
   ]
  },
  {
   "cell_type": "markdown",
   "id": "a08ecdb9-0d7f-44f6-be8f-db646907fb18",
   "metadata": {},
   "source": [
    "#### Questions:\n",
    "* How has climate change impacted the agriculture in California?\n",
    "* How can we compare this to states such as New York?\n",
    "* Variables : county, temperature, population, types of crops (agricultural reports)"
   ]
  }
 ],
 "metadata": {
  "kernelspec": {
   "display_name": "Python 3 (ipykernel)",
   "language": "python",
   "name": "python3"
  },
  "language_info": {
   "codemirror_mode": {
    "name": "ipython",
    "version": 3
   },
   "file_extension": ".py",
   "mimetype": "text/x-python",
   "name": "python",
   "nbconvert_exporter": "python",
   "pygments_lexer": "ipython3",
   "version": "3.12.2"
  }
 },
 "nbformat": 4,
 "nbformat_minor": 5
}
