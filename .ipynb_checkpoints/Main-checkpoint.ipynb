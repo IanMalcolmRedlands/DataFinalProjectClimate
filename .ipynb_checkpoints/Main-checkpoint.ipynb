{
 "cells": [
  {
   "cell_type": "markdown",
   "id": "9403d193-f080-43e5-931b-916f848da596",
   "metadata": {},
   "source": [
    "# Testing Branches\n",
    "\n",
    "This is Ian writing words."
   ]
  },
  {
   "cell_type": "code",
   "execution_count": null,
   "id": "284c64b4-ab2f-4389-a299-19609b7ef655",
   "metadata": {},
   "outputs": [],
   "source": []
  }
 ],
 "metadata": {
  "kernelspec": {
   "display_name": "Python 3 (ipykernel)",
   "language": "python",
   "name": "python3"
  },
  "language_info": {
   "codemirror_mode": {
    "name": "ipython",
    "version": 3
   },
   "file_extension": ".py",
   "mimetype": "text/x-python",
   "name": "python",
   "nbconvert_exporter": "python",
   "pygments_lexer": "ipython3",
   "version": "3.12.2"
  }
 },
 "nbformat": 4,
 "nbformat_minor": 5
}
