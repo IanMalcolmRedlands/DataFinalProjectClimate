{
 "cells": [
  {
   "cell_type": "markdown",
   "id": "842555f2-bb95-4eb9-8acc-76294b4c3ffa",
   "metadata": {},
   "source": [
    "Emma's notebook"
   ]
  }
 ],
 "metadata": {
  "kernelspec": {
   "display_name": "Python 3 (ipykernel)",
   "language": "python",
   "name": "python3"
  },
  "language_info": {
   "codemirror_mode": {
    "name": "ipython",
    "version": 3
   },
   "file_extension": ".py",
   "mimetype": "text/x-python",
   "name": "python",
   "nbconvert_exporter": "python",
   "pygments_lexer": "ipython3",
   "version": "3.12.2"
  }
 },
 "nbformat": 4,
 "nbformat_minor": 5
}
